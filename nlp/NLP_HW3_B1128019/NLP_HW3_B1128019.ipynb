{
  "cells": [
    {
      "cell_type": "markdown",
      "metadata": {
        "id": "tviVzP_SwyXb"
      },
      "source": [
        "# NLP 作業3"
      ]
    },
    {
      "cell_type": "markdown",
      "metadata": {
        "id": "jAzwpzejw1Ce"
      },
      "source": [
        "## 安裝需要的套件"
      ]
    },
    {
      "cell_type": "code",
      "execution_count": 1,
      "metadata": {
        "id": "_q3hH0xzwLZ-"
      },
      "outputs": [],
      "source": [
        "#!pip install datasets\n",
        "#!pip install evaluate\n",
        "#!pip install seqeval"
      ]
    },
    {
      "cell_type": "code",
      "execution_count": 2,
      "metadata": {
        "id": "wguuVbw6Jrde"
      },
      "outputs": [
        {
          "name": "stderr",
          "output_type": "stream",
          "text": [
            "/home/hjc/venv/.venvPy01/lib/python3.10/site-packages/tqdm/auto.py:21: TqdmWarning: IProgress not found. Please update jupyter and ipywidgets. See https://ipywidgets.readthedocs.io/en/stable/user_install.html\n",
            "  from .autonotebook import tqdm as notebook_tqdm\n"
          ]
        },
        {
          "name": "stdout",
          "output_type": "stream",
          "text": [
            "3.5.0\n",
            "0.4.3\n"
          ]
        }
      ],
      "source": [
        "import datasets\n",
        "import evaluate\n",
        "import seqeval\n",
        "\n",
        "print(datasets.__version__)\n",
        "print(evaluate.__version__)"
      ]
    },
    {
      "cell_type": "code",
      "execution_count": 3,
      "metadata": {
        "id": "fiJ-cKUTKI5M"
      },
      "outputs": [
        {
          "name": "stdout",
          "output_type": "stream",
          "text": [
            "seqeval                   1.2.2\n"
          ]
        }
      ],
      "source": [
        "!pip list | grep seqeval"
      ]
    },
    {
      "cell_type": "code",
      "execution_count": 4,
      "metadata": {
        "id": "0JUdNklYKlOJ"
      },
      "outputs": [
        {
          "data": {
            "text/plain": [
              "True"
            ]
          },
          "execution_count": 4,
          "metadata": {},
          "output_type": "execute_result"
        }
      ],
      "source": [
        "import torch\n",
        "\n",
        "# 測試現在這個 Colab 環境是否已經使用 GPU\n",
        "# 否則等下可能會需要重新啟動 Colab 環境\n",
        "torch.cuda.is_available() # 結果需要顯示為 True"
      ]
    },
    {
      "cell_type": "markdown",
      "metadata": {
        "id": "mD1q9cIKxA0K"
      },
      "source": [
        "## Start"
      ]
    },
    {
      "cell_type": "code",
      "execution_count": 5,
      "metadata": {
        "id": "MGQZbjb1w4vt"
      },
      "outputs": [],
      "source": [
        "from transformers import AutoTokenizer\n",
        "from transformers import AutoModelForTokenClassification\n",
        "from transformers import DataCollatorForTokenClassification\n",
        "from transformers import TrainingArguments, Trainer\n",
        "from transformers import EvalPrediction"
      ]
    },
    {
      "cell_type": "code",
      "execution_count": 6,
      "metadata": {
        "id": "7hO-usJVyzoB"
      },
      "outputs": [],
      "source": [
        "MODEL_NAME = \"bert-base-uncased\"\n",
        "DATA_NAME = \"ncbi_disease\"\n",
        "TRAIN_BATCH_SIZE = 16\n",
        "EVAL_BATCH_SIZE = 20\n",
        "NUM_TRAIN_EPOCHS = 3\n",
        "LEARNING_RATE = 2e-5"
      ]
    },
    {
      "cell_type": "code",
      "execution_count": 7,
      "metadata": {
        "id": "1dYTeyvFw4td"
      },
      "outputs": [],
      "source": [
        "# 載入資料集\n",
        "dataset = datasets.load_dataset(DATA_NAME, trust_remote_code=True)"
      ]
    },
    {
      "cell_type": "code",
      "execution_count": 8,
      "metadata": {
        "id": "gcZk5nwCL9V5"
      },
      "outputs": [
        {
          "name": "stdout",
          "output_type": "stream",
          "text": [
            "train: 5433 samples\n",
            "validation: 924 samples\n",
            "test: 941 samples\n"
          ]
        }
      ],
      "source": [
        "# 檢查每個 split 的數量\n",
        "\n",
        "for data_type in [\"train\", \"validation\", \"test\"]:\n",
        "    print(f\"{data_type}: {len(dataset[data_type])} samples\")"
      ]
    },
    {
      "cell_type": "code",
      "execution_count": 9,
      "metadata": {
        "id": "fosvNq1rzLvc"
      },
      "outputs": [
        {
          "name": "stdout",
          "output_type": "stream",
          "text": [
            "['O', 'B-Disease', 'I-Disease']\n"
          ]
        }
      ],
      "source": [
        "# Show NER tag names\n",
        "label_names = dataset[\"train\"].features[\"ner_tags\"].feature.names\n",
        "print(label_names)"
      ]
    },
    {
      "cell_type": "code",
      "execution_count": 10,
      "metadata": {
        "id": "FJhYcbL5wxET"
      },
      "outputs": [
        {
          "name": "stdout",
          "output_type": "stream",
          "text": [
            "<class 'dict'>\n",
            "id: 1\n",
            "tokens: ['The', 'adenomatous', 'polyposis', 'coli', '(', 'APC', ')', 'tumour', '-', 'suppressor', 'protein', 'controls', 'the', 'Wnt', 'signalling', 'pathway', 'by', 'forming', 'a', 'complex', 'with', 'glycogen', 'synthase', 'kinase', '3beta', '(', 'GSK', '-', '3beta', ')', ',', 'axin', '/', 'conductin', 'and', 'betacatenin', '.']\n",
            "ner_tags: [0, 1, 2, 2, 2, 2, 2, 2, 0, 0, 0, 0, 0, 0, 0, 0, 0, 0, 0, 0, 0, 0, 0, 0, 0, 0, 0, 0, 0, 0, 0, 0, 0, 0, 0, 0, 0]\n"
          ]
        }
      ],
      "source": [
        "# 觀察資料\n",
        "first_example = dataset[\"train\"][1]\n",
        "print(type(first_example))\n",
        "\n",
        "for k, v in first_example.items():\n",
        "    print(f\"{k}: {v}\")"
      ]
    },
    {
      "cell_type": "code",
      "execution_count": 11,
      "metadata": {
        "id": "nZ3x1ukQwxu1"
      },
      "outputs": [],
      "source": [
        "# TODO1: 建立 tokenizer\n",
        "\n",
        "tokenizer = AutoTokenizer.from_pretrained(MODEL_NAME)# Write your code here\n"
      ]
    },
    {
      "cell_type": "code",
      "execution_count": 12,
      "metadata": {
        "id": "0thRmtm1x9k7"
      },
      "outputs": [
        {
          "name": "stdout",
          "output_type": "stream",
          "text": [
            "Tokenized 後的結果：\n",
            "{'input_ids': [101, 1996, 16298, 9626, 24826, 2015, 26572, 6873, 6190, 27441, 1006, 9706, 2278, 1007, 10722, 20360, 1011, 16081, 2953, 5250, 7711, 1996, 1059, 3372, 21919, 12732, 2011, 5716, 1037, 3375, 2007, 1043, 2135, 3597, 6914, 24203, 11022, 21903, 1017, 20915, 2050, 1006, 28177, 2243, 1011, 1017, 20915, 2050, 1007, 1010, 22260, 2378, 1013, 6204, 2378, 1998, 8247, 16280, 11483, 1012, 102], 'token_type_ids': [0, 0, 0, 0, 0, 0, 0, 0, 0, 0, 0, 0, 0, 0, 0, 0, 0, 0, 0, 0, 0, 0, 0, 0, 0, 0, 0, 0, 0, 0, 0, 0, 0, 0, 0, 0, 0, 0, 0, 0, 0, 0, 0, 0, 0, 0, 0, 0, 0, 0, 0, 0, 0, 0, 0, 0, 0, 0, 0, 0, 0], 'attention_mask': [1, 1, 1, 1, 1, 1, 1, 1, 1, 1, 1, 1, 1, 1, 1, 1, 1, 1, 1, 1, 1, 1, 1, 1, 1, 1, 1, 1, 1, 1, 1, 1, 1, 1, 1, 1, 1, 1, 1, 1, 1, 1, 1, 1, 1, 1, 1, 1, 1, 1, 1, 1, 1, 1, 1, 1, 1, 1, 1, 1, 1]}\n",
            "Tokenized 後的 word_ids：\n",
            "[None, 0, 1, 1, 1, 1, 2, 2, 2, 3, 4, 5, 5, 6, 7, 7, 8, 9, 9, 10, 11, 12, 13, 13, 14, 15, 16, 17, 18, 19, 20, 21, 21, 21, 21, 22, 22, 23, 24, 24, 24, 25, 26, 26, 27, 28, 28, 28, 29, 30, 31, 31, 32, 33, 33, 34, 35, 35, 35, 36, None]\n",
            "原始資料的 labels：\n",
            "[0, 1, 2, 2, 2, 2, 2, 2, 0, 0, 0, 0, 0, 0, 0, 0, 0, 0, 0, 0, 0, 0, 0, 0, 0, 0, 0, 0, 0, 0, 0, 0, 0, 0, 0, 0, 0]\n",
            "我們下一步需要轉換 labels 為：\n",
            "[-100, 0, 0, 0, 0, 0, 0, 0, 0, 0, 0, 0, 1, 2, 2, 2, 2, 2, 2, 2, 2, 2, 0, 0, 0, -100]\n"
          ]
        }
      ],
      "source": [
        "tokenized_inputs = tokenizer(\n",
        "        first_example[\"tokens\"],\n",
        "        truncation=True,\n",
        "        is_split_into_words=True,\n",
        ")\n",
        "print(\"Tokenized 後的結果：\")\n",
        "print(tokenized_inputs)\n",
        "print(\"Tokenized 後的 word_ids：\")\n",
        "print(tokenized_inputs.word_ids())\n",
        "\n",
        "print(\"原始資料的 labels：\")\n",
        "print(first_example[\"ner_tags\"])\n",
        "print(\"我們下一步需要轉換 labels 為：\")\n",
        "print(\"[-100, 0, 0, 0, 0, 0, 0, 0, 0, 0, 0, 0, 1, 2, 2, 2, 2, 2, 2, 2, 2, 2, 0, 0, 0, -100]\")"
      ]
    },
    {
      "cell_type": "code",
      "execution_count": 13,
      "metadata": {
        "id": "L_Ouqx7zxSJl"
      },
      "outputs": [],
      "source": [
        "# TODO2: labels 處理\n",
        "# 我們可以發現資料集的 labels (ner_tags) 是以 word 為單位\n",
        "# 但是我們要使用的 tokenizer (如 BERT 的 tokenizer) 會把 word 切成 subwords\n",
        "# 因此要針對 labels 的部分進行處理\n",
        "\n",
        "def tokenize_and_align_labels(example):\n",
        "    original_labels = example[\"ner_tags\"]\n",
        "\n",
        "    tokenized_inputs = tokenizer(\n",
        "        example[\"tokens\"],\n",
        "        truncation=True,\n",
        "        is_split_into_words=True,\n",
        "    )\n",
        "    word_ids = tokenized_inputs.word_ids()\n",
        "    labels = []\n",
        "    current_word_idx = None\n",
        "    for word_idx in word_ids:\n",
        "        # Write your code here\n",
        "        # Hints:\n",
        "        # (1) [CLS] or [SEP] 設為 -100\n",
        "        # (2) 由左至右給予新的 labels，\n",
        "        # 因此需要 current_word_idx\n",
        "        # 來幫助我們觀察下個 token 是否進到新的 word，還是是 上一個 word 的 sub-word\n",
        "        if word_idx is None:\n",
        "            labels.append(-100)\n",
        "        elif word_idx != current_word_idx:\n",
        "            labels.append(original_labels[word_idx])\n",
        "        else:\n",
        "            labels.append(-100)\n",
        "    \n",
        "    current_word_idx = word_idx\n",
        "    tokenized_inputs[\"labels\"] = labels\n",
        "    return tokenized_inputs"
      ]
    },
    {
      "cell_type": "code",
      "execution_count": 14,
      "metadata": {
        "id": "ofAMB2351rbm"
      },
      "outputs": [],
      "source": [
        "tokenized_datasets = dataset.map(\n",
        "    tokenize_and_align_labels,\n",
        "    batched=False,\n",
        "    remove_columns=dataset[\"train\"].column_names,\n",
        ")"
      ]
    },
    {
      "cell_type": "code",
      "execution_count": 15,
      "metadata": {
        "id": "w6d2IJR410sQ"
      },
      "outputs": [
        {
          "data": {
            "text/plain": [
              "Dataset({\n",
              "    features: ['input_ids', 'token_type_ids', 'attention_mask', 'labels'],\n",
              "    num_rows: 5433\n",
              "})"
            ]
          },
          "execution_count": 15,
          "metadata": {},
          "output_type": "execute_result"
        }
      ],
      "source": [
        "tokenized_datasets[\"train\"]"
      ]
    },
    {
      "cell_type": "code",
      "execution_count": 16,
      "metadata": {
        "id": "OGT9XdOE4k69"
      },
      "outputs": [],
      "source": [
        "data_collator = DataCollatorForTokenClassification(tokenizer=tokenizer)"
      ]
    },
    {
      "cell_type": "code",
      "execution_count": 17,
      "metadata": {
        "id": "RRrget9K5r6p"
      },
      "outputs": [
        {
          "data": {
            "text/plain": [
              "tensor([[-100,    0,    0,    0,    0,    0,    0,    0,    0,    0,    0,    0,\n",
              "            1,    1,    1,    1,    2,    2,    2,    2,    2,    2,    0,    0,\n",
              "            0, -100, -100, -100, -100, -100, -100, -100, -100, -100, -100, -100,\n",
              "         -100, -100, -100, -100, -100, -100, -100, -100, -100, -100, -100, -100,\n",
              "         -100, -100, -100, -100, -100, -100, -100, -100, -100, -100, -100, -100,\n",
              "         -100],\n",
              "        [-100,    0,    1,    1,    1,    1,    2,    2,    2,    2,    2,    2,\n",
              "            2,    2,    2,    2,    0,    0,    0,    0,    0,    0,    0,    0,\n",
              "            0,    0,    0,    0,    0,    0,    0,    0,    0,    0,    0,    0,\n",
              "            0,    0,    0,    0,    0,    0,    0,    0,    0,    0,    0,    0,\n",
              "            0,    0,    0,    0,    0,    0,    0,    0,    0,    0,    0,    0,\n",
              "         -100]])"
            ]
          },
          "execution_count": 17,
          "metadata": {},
          "output_type": "execute_result"
        }
      ],
      "source": [
        "fake_batch = [tokenized_datasets[\"train\"][i] for i in range(2)]\n",
        "batch = data_collator(fake_batch)\n",
        "batch[\"labels\"]"
      ]
    },
    {
      "cell_type": "code",
      "execution_count": 18,
      "metadata": {
        "id": "h8JhtyZE3XRv"
      },
      "outputs": [
        {
          "name": "stdout",
          "output_type": "stream",
          "text": [
            "{0: 'O', 1: 'B-Disease', 2: 'I-Disease'}\n",
            "{'O': 0, 'B-Disease': 1, 'I-Disease': 2}\n"
          ]
        }
      ],
      "source": [
        "# TODO3: 建立 id -> label (`id2label`) 以及 label -> id (`label2id`) 的轉換\n",
        "# `id2label` 和 `label2id` 都是 Python dict，且 key 跟 value 都是 int\n",
        "\n",
        "id2label = {idx: label for idx, label in enumerate(label_names)} # Write your code here\n",
        "label2id = {label: idx for idx, label in enumerate(label_names)} # Write your code here\n",
        "\n",
        "print(id2label)\n",
        "print(label2id)"
      ]
    },
    {
      "cell_type": "code",
      "execution_count": 19,
      "metadata": {
        "id": "78AaFWrZ4UzX"
      },
      "outputs": [
        {
          "name": "stderr",
          "output_type": "stream",
          "text": [
            "Some weights of BertForTokenClassification were not initialized from the model checkpoint at bert-base-uncased and are newly initialized: ['classifier.bias', 'classifier.weight']\n",
            "You should probably TRAIN this model on a down-stream task to be able to use it for predictions and inference.\n"
          ]
        }
      ],
      "source": [
        "model = AutoModelForTokenClassification.from_pretrained(\n",
        "    MODEL_NAME,\n",
        "    num_labels=len(label_names),\n",
        "    id2label=id2label,\n",
        "    label2id=label2id\n",
        ")"
      ]
    },
    {
      "cell_type": "code",
      "execution_count": 20,
      "metadata": {
        "id": "MDpmnOCm87yY"
      },
      "outputs": [
        {
          "data": {
            "text/plain": [
              "3"
            ]
          },
          "execution_count": 20,
          "metadata": {},
          "output_type": "execute_result"
        }
      ],
      "source": [
        "# 檢查模型是否確實被設定為3種類別輸出\n",
        "model.config.num_labels"
      ]
    },
    {
      "cell_type": "code",
      "execution_count": 21,
      "metadata": {
        "id": "PKK38fCq7bQF"
      },
      "outputs": [],
      "source": [
        "# TODO4: 設定 TrainingArguments\n",
        "\n",
        "training_args = TrainingArguments(\n",
        "    output_dir=\"./bertNER\",\n",
        "    overwrite_output_dir=True,\n",
        "    eval_strategy=\"epoch\",\n",
        "    save_strategy=\"epoch\",\n",
        "    logging_strategy=\"steps\",\n",
        "    logging_steps=50,\n",
        "    save_total_limit=3,\n",
        "    load_best_model_at_end=True,\n",
        "    metric_for_best_model=\"f1\",\n",
        "    fp16=True,\n",
        "    learning_rate=5e-5,\n",
        "    weight_decay=0.01,\n",
        "    num_train_epochs=3,\n",
        "    per_device_train_batch_size=16,\n",
        "    per_device_eval_batch_size=32,\n",
        "    gradient_accumulation_steps=2,\n",
        "    warmup_ratio=0.1,\n",
        "    report_to='tensorboard',\n",
        "    push_to_hub=False,\n",
        ")"
      ]
    },
    {
      "cell_type": "code",
      "execution_count": 22,
      "metadata": {},
      "outputs": [
        {
          "name": "stdout",
          "output_type": "stream",
          "text": [
            "↳ max label in dataset : O\n",
            "↳ len(label_names)     : 3\n",
            "↳ model.config.num_labels : 3\n",
            "↳ id2label keys range  : [0, 1, 2]\n"
          ]
        }
      ],
      "source": [
        "print(\"↳ max label in dataset :\", max(dataset[\"train\"].features[\"ner_tags\"].feature.names))\n",
        "print(\"↳ len(label_names)     :\", len(label_names))\n",
        "print(\"↳ model.config.num_labels :\", model.config.num_labels)\n",
        "print(\"↳ id2label keys range  :\", sorted(id2label.keys()))\n"
      ]
    },
    {
      "cell_type": "code",
      "execution_count": null,
      "metadata": {
        "id": "shP1Z1WF8Dh1"
      },
      "outputs": [],
      "source": [
        "# TODO5: 完成 compute_metrics\n",
        "import numpy as np\n",
        "\n",
        "metric = evaluate.load(\"seqeval\")\n",
        "\n",
        "def compute_metrics(eval_pred: EvalPrediction):\n",
        "    predictions, labels = eval_pred.predictions, eval_pred.label_ids\n",
        "    # Write your code here\n",
        "    pred_ids = np.argmax(predictions, axis=2) # (batch, seq_len, num_labels)變成(batch, seq_len)\n",
        "    true_pred, true_label = [], []\n",
        "    for pred_seq, label_seq in zip(pred_ids, labels):\n",
        "        sent_preds, sent_labels = [], []\n",
        "        for p_id, l_id in zip(pred_seq, label_seq):\n",
        "            if l_id == -100:\n",
        "                continue\n",
        "            sent_labels.append(id2label[int(l_id)])\n",
        "            sent_preds.append(id2label[int(p_id)])\n",
        "        true_label.append(sent_labels)\n",
        "        true_pred.append(sent_preds)\n",
        "    #ChatGPT fix this bug ▼\n",
        "    metrics = metric.compute(predictions = true_pred, references = true_label) #seqeval 計算整體指標，這邊要注意是使用references當作變數名稱，按照Hugging Face 格式\n",
        "    return { # Write your code here\n",
        "        \"precision\": metrics[\"overall_precision\"],\n",
        "        \"recall\": metrics[\"overall_recall\"],\n",
        "        \"f1\": metrics[\"overall_f1\"],\n",
        "        \"accuracy\": metrics[\"overall_accuracy\"],\n",
        "    } "
      ]
    },
    {
      "cell_type": "code",
      "execution_count": 24,
      "metadata": {
        "id": "bHY3mnN67-OP"
      },
      "outputs": [
        {
          "name": "stderr",
          "output_type": "stream",
          "text": [
            "/tmp/ipykernel_11438/4136483146.py:3: FutureWarning: `tokenizer` is deprecated and will be removed in version 5.0.0 for `Trainer.__init__`. Use `processing_class` instead.\n",
            "  trainer = Trainer(\n"
          ]
        }
      ],
      "source": [
        "# TODO6: set up trainer\n",
        "\n",
        "trainer = Trainer(\n",
        "    # Write your code here\n",
        "    model=model,\n",
        "    args=training_args,\n",
        "    train_dataset=tokenized_datasets[\"train\"],\n",
        "    eval_dataset=tokenized_datasets[\"validation\"],\n",
        "    tokenizer=tokenizer,\n",
        "    data_collator=data_collator,\n",
        "    compute_metrics=compute_metrics,\n",
        ")"
      ]
    },
    {
      "cell_type": "markdown",
      "metadata": {
        "id": "nRCXWjn97H5C"
      },
      "source": [
        "### 相關官方文件連結\n",
        "- [TokenClassifierOutput](https://huggingface.co/docs/transformers/en/main_classes/output#transformers.modeling_outputs.TokenClassifierOutput)\n",
        "- [EvalPrediction](https://huggingface.co/docs/transformers/internal/trainer_utils#transformers.EvalPrediction)"
      ]
    },
    {
      "cell_type": "code",
      "execution_count": 25,
      "metadata": {
        "id": "JBEZnGyP7HLU"
      },
      "outputs": [
        {
          "name": "stdout",
          "output_type": "stream",
          "text": [
            "AutoModelForTokenClassification 輸出的型態為: <class 'transformers.modeling_outputs.TokenClassifierOutput'>\n",
            "Logits shape: torch.Size([32, 59, 3])\n",
            "Labels shape: torch.Size([32, 59])\n",
            "Loss: 1.1592801809310913\n",
            "Type of `outputs.loss`: <class 'torch.Tensor'>\n",
            "Type of `outputs.loss.item()`: <class 'float'>\n",
            "\n",
            "Trainer 在輸進去 compute_metrics 前的型態為: <class 'transformers.trainer_utils.EvalPrediction'>\n",
            "precision: 0.01818181818181818\n",
            "recall: 0.08108108108108109\n",
            "f1: 0.029702970297029698\n",
            "accuracy: 0.1509433962264151\n"
          ]
        }
      ],
      "source": [
        "# compute_metrics 模擬測試區\n",
        "\n",
        "eval_dataloader = trainer.get_eval_dataloader()\n",
        "batch = next(iter(eval_dataloader))\n",
        "with torch.no_grad():\n",
        "    outputs = model(**{k: v.to(model.device) for k, v in batch.items()})\n",
        "print(f\"AutoModelForTokenClassification 輸出的型態為: {type(outputs)}\")\n",
        "print(f\"Logits shape: {outputs.logits.shape}\")\n",
        "print(f\"Labels shape: {batch['labels'].shape}\")\n",
        "print(f\"Loss: {outputs.loss.item()}\")\n",
        "print(f\"Type of `outputs.loss`: {type(outputs.loss)}\")\n",
        "print(f\"Type of `outputs.loss.item()`: {type(outputs.loss.item())}\")\n",
        "print()\n",
        "\n",
        "# 取得 logits 和 labels\n",
        "logits = outputs.logits.cpu().numpy()\n",
        "labels = batch[\"labels\"].cpu().numpy()\n",
        "\n",
        "# 建立 EvalPrediction 模擬 compute_metrics 呼叫\n",
        "mock_eval = EvalPrediction(\n",
        "    predictions=logits,\n",
        "    label_ids=labels,\n",
        ")\n",
        "print(f\"Trainer 在輸進去 compute_metrics 前的型態為: {type(mock_eval)}\")\n",
        "\n",
        "# 呼叫你自己寫的 metrics function\n",
        "metrics = compute_metrics(mock_eval)\n",
        "for k, v in metrics.items():\n",
        "    print(f\"{k}: {v}\")"
      ]
    },
    {
      "cell_type": "code",
      "execution_count": 26,
      "metadata": {
        "id": "R4k0716e8Rvp"
      },
      "outputs": [
        {
          "data": {
            "text/html": [
              "\n",
              "    <div>\n",
              "      \n",
              "      <progress value='510' max='510' style='width:300px; height:20px; vertical-align: middle;'></progress>\n",
              "      [510/510 01:21, Epoch 3/3]\n",
              "    </div>\n",
              "    <table border=\"1\" class=\"dataframe\">\n",
              "  <thead>\n",
              " <tr style=\"text-align: left;\">\n",
              "      <th>Epoch</th>\n",
              "      <th>Training Loss</th>\n",
              "      <th>Validation Loss</th>\n",
              "      <th>Precision</th>\n",
              "      <th>Recall</th>\n",
              "      <th>F1</th>\n",
              "      <th>Accuracy</th>\n",
              "    </tr>\n",
              "  </thead>\n",
              "  <tbody>\n",
              "    <tr>\n",
              "      <td>1</td>\n",
              "      <td>0.086400</td>\n",
              "      <td>0.071946</td>\n",
              "      <td>0.794100</td>\n",
              "      <td>0.850000</td>\n",
              "      <td>0.821099</td>\n",
              "      <td>0.978290</td>\n",
              "    </tr>\n",
              "    <tr>\n",
              "      <td>2</td>\n",
              "      <td>0.039700</td>\n",
              "      <td>0.069412</td>\n",
              "      <td>0.795931</td>\n",
              "      <td>0.875000</td>\n",
              "      <td>0.833594</td>\n",
              "      <td>0.981143</td>\n",
              "    </tr>\n",
              "    <tr>\n",
              "      <td>3</td>\n",
              "      <td>0.016800</td>\n",
              "      <td>0.075871</td>\n",
              "      <td>0.822808</td>\n",
              "      <td>0.882895</td>\n",
              "      <td>0.851793</td>\n",
              "      <td>0.982127</td>\n",
              "    </tr>\n",
              "  </tbody>\n",
              "</table><p>"
            ],
            "text/plain": [
              "<IPython.core.display.HTML object>"
            ]
          },
          "metadata": {},
          "output_type": "display_data"
        },
        {
          "data": {
            "text/plain": [
              "TrainOutput(global_step=510, training_loss=0.09135093817523882, metrics={'train_runtime': 82.1828, 'train_samples_per_second': 198.326, 'train_steps_per_second': 6.206, 'total_flos': 577037255854140.0, 'train_loss': 0.09135093817523882, 'epoch': 3.0})"
            ]
          },
          "execution_count": 26,
          "metadata": {},
          "output_type": "execute_result"
        }
      ],
      "source": [
        "trainer.train()"
      ]
    },
    {
      "cell_type": "code",
      "execution_count": 28,
      "metadata": {
        "id": "0C__62C7Jif2"
      },
      "outputs": [
        {
          "data": {
            "text/plain": [
              "{'eval_loss': 0.08857279270887375,\n",
              " 'eval_precision': 0.8365514144589133,\n",
              " 'eval_recall': 0.881267738883633,\n",
              " 'eval_f1': 0.8583275742916379,\n",
              " 'eval_accuracy': 0.9748477543770616,\n",
              " 'eval_runtime': 1.1154,\n",
              " 'eval_samples_per_second': 843.625,\n",
              " 'eval_steps_per_second': 26.896,\n",
              " 'epoch': 3.0}"
            ]
          },
          "execution_count": 28,
          "metadata": {},
          "output_type": "execute_result"
        }
      ],
      "source": [
        "trainer.evaluate(tokenized_datasets[\"test\"])"
      ]
    },
    {
      "cell_type": "code",
      "execution_count": null,
      "metadata": {
        "id": "ItVUtZQNMuBA"
      },
      "outputs": [],
      "source": [
        "#這次幾乎無使用GPT，中間有修BUG有使用ChatGPT-4o已標注"
      ]
    }
  ],
  "metadata": {
    "accelerator": "GPU",
    "colab": {
      "gpuType": "A100",
      "machine_shape": "hm",
      "provenance": [],
      "toc_visible": true
    },
    "kernelspec": {
      "display_name": ".venvPy01",
      "language": "python",
      "name": "python3"
    },
    "language_info": {
      "codemirror_mode": {
        "name": "ipython",
        "version": 3
      },
      "file_extension": ".py",
      "mimetype": "text/x-python",
      "name": "python",
      "nbconvert_exporter": "python",
      "pygments_lexer": "ipython3",
      "version": "3.10.12"
    }
  },
  "nbformat": 4,
  "nbformat_minor": 0
}
